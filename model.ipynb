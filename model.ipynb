{
  "nbformat": 4,
  "nbformat_minor": 0,
  "metadata": {
    "kernelspec": {
      "display_name": "Python 3",
      "language": "python",
      "name": "python3"
    },
    "language_info": {
      "codemirror_mode": {
        "name": "ipython",
        "version": 3
      },
      "file_extension": ".py",
      "mimetype": "text/x-python",
      "name": "python",
      "nbconvert_exporter": "python",
      "pygments_lexer": "ipython3",
      "version": "3.7.3"
    },
    "colab": {
      "name": "model.ipynb",
      "provenance": []
    }
  },
  "cells": [
    {
      "cell_type": "code",
      "metadata": {
        "id": "FY0T1xpomuCx",
        "colab_type": "code",
        "colab": {}
      },
      "source": [
        "import numpy as np\n",
        "import matplotlib.pyplot as plt"
      ],
      "execution_count": 0,
      "outputs": []
    },
    {
      "cell_type": "code",
      "metadata": {
        "id": "DeYTanlVmuDp",
        "colab_type": "code",
        "colab": {},
        "outputId": "f4e9f556-c2d5-4abf-e009-b0bbd7242d71"
      },
      "source": [
        "import keras\n",
        "from keras.models import Sequential\n",
        "from keras.layers import Dense\n",
        "from keras.optimizers import Adam"
      ],
      "execution_count": 0,
      "outputs": [
        {
          "output_type": "stream",
          "text": [
            "Using TensorFlow backend.\n"
          ],
          "name": "stderr"
        }
      ]
    },
    {
      "cell_type": "code",
      "metadata": {
        "id": "AkCZFn8UmuEI",
        "colab_type": "code",
        "colab": {},
        "outputId": "771456c3-6855-4884-a058-836a95a237c0"
      },
      "source": [
        "n_pts = 500\n",
        "np.random.seed(0)\n",
        "Xa = np.array([np.random.normal(13,2,n_pts),\n",
        "               np.random.normal(12,2,n_pts)]).T\n",
        "Xb = np.array([np.random.normal(8,2,n_pts),\n",
        "               np.random.normal(6,2,n_pts)]).T\n",
        "X = np.vstack((Xa,Xb))\n",
        "y = np.matrix([np.append(np.zeros(n_pts),np.ones(n_pts))]).T\n",
        "plt.scatter(X[:n_pts,0],X[:n_pts,1])\n",
        "plt.scatter(X[n_pts:,0],X[n_pts:,1])\n"
      ],
      "execution_count": 0,
      "outputs": [
        {
          "output_type": "execute_result",
          "data": {
            "text/plain": [
              "<matplotlib.collections.PathCollection at 0x7f1165d84438>"
            ]
          },
          "metadata": {
            "tags": []
          },
          "execution_count": 4
        },
        {
          "output_type": "display_data",
          "data": {
            "image/png": "[encoded data removed]",
            "text/plain": [
              "<Figure size 432x288 with 1 Axes>"
            ]
          },
          "metadata": {
            "tags": [],
            "needs_background": "light"
          }
        }
      ]
    },
    {
      "cell_type": "code",
      "metadata": {
        "id": "gDZyMNQhmuEg",
        "colab_type": "code",
        "colab": {},
        "outputId": "0677e811-3958-4ccf-da18-6b1edd3a52f7"
      },
      "source": [
        "model = Sequential()\n",
        "model.add(Dense(units=1,input_shape=(2,),activation='sigmoid'))\n",
        "adam = Adam(lr=0.1)\n",
        "model.compile(adam,loss='binary_crossentropy',metrics=['accuracy'])\n",
        "h = model.fit(x=X,y=y,verbose=1,batch_size=50,epochs=100,shuffle='true')"
      ],
      "execution_count": 0,
      "outputs": [
        {
          "output_type": "stream",
          "text": [
            "Epoch 1/100\n",
            "1000/1000 [==============================] - 0s 189us/step - loss: 1.4227 - accuracy: 0.5550\n",
            "Epoch 2/100\n",
            "1000/1000 [==============================] - 0s 43us/step - loss: 0.6247 - accuracy: 0.6120\n",
            "Epoch 3/100\n",
            "1000/1000 [==============================] - 0s 43us/step - loss: 0.4458 - accuracy: 0.8290\n",
            "Epoch 4/100\n",
            "1000/1000 [==============================] - 0s 45us/step - loss: 0.3837 - accuracy: 0.8950\n",
            "Epoch 5/100\n",
            "1000/1000 [==============================] - 0s 44us/step - loss: 0.3406 - accuracy: 0.9050\n",
            "Epoch 6/100\n",
            "1000/1000 [==============================] - 0s 47us/step - loss: 0.3077 - accuracy: 0.9270\n",
            "Epoch 7/100\n",
            "1000/1000 [==============================] - 0s 46us/step - loss: 0.2884 - accuracy: 0.9330\n",
            "Epoch 8/100\n",
            "1000/1000 [==============================] - 0s 52us/step - loss: 0.2608 - accuracy: 0.9390\n",
            "Epoch 9/100\n",
            "1000/1000 [==============================] - 0s 53us/step - loss: 0.2344 - accuracy: 0.9580\n",
            "Epoch 10/100\n",
            "1000/1000 [==============================] - 0s 93us/step - loss: 0.2188 - accuracy: 0.9630\n",
            "Epoch 11/100\n",
            "1000/1000 [==============================] - 0s 61us/step - loss: 0.2037 - accuracy: 0.9580\n",
            "Epoch 12/100\n",
            "1000/1000 [==============================] - 0s 54us/step - loss: 0.1923 - accuracy: 0.9600\n",
            "Epoch 13/100\n",
            "1000/1000 [==============================] - 0s 55us/step - loss: 0.1804 - accuracy: 0.9670\n",
            "Epoch 14/100\n",
            "1000/1000 [==============================] - 0s 59us/step - loss: 0.1711 - accuracy: 0.9680\n",
            "Epoch 15/100\n",
            "1000/1000 [==============================] - 0s 47us/step - loss: 0.1656 - accuracy: 0.9650\n",
            "Epoch 16/100\n",
            "1000/1000 [==============================] - 0s 47us/step - loss: 0.1574 - accuracy: 0.9670\n",
            "Epoch 17/100\n",
            "1000/1000 [==============================] - 0s 63us/step - loss: 0.1496 - accuracy: 0.9690\n",
            "Epoch 18/100\n",
            "1000/1000 [==============================] - 0s 81us/step - loss: 0.1445 - accuracy: 0.9670\n",
            "Epoch 19/100\n",
            "1000/1000 [==============================] - 0s 71us/step - loss: 0.1387 - accuracy: 0.9760\n",
            "Epoch 20/100\n",
            "1000/1000 [==============================] - 0s 71us/step - loss: 0.1332 - accuracy: 0.9740\n",
            "Epoch 21/100\n",
            "1000/1000 [==============================] - 0s 57us/step - loss: 0.1310 - accuracy: 0.9740\n",
            "Epoch 22/100\n",
            "1000/1000 [==============================] - 0s 71us/step - loss: 0.1262 - accuracy: 0.9750\n",
            "Epoch 23/100\n",
            "1000/1000 [==============================] - 0s 59us/step - loss: 0.1275 - accuracy: 0.9720\n",
            "Epoch 24/100\n",
            "1000/1000 [==============================] - 0s 54us/step - loss: 0.1241 - accuracy: 0.9720\n",
            "Epoch 25/100\n",
            "1000/1000 [==============================] - 0s 53us/step - loss: 0.1162 - accuracy: 0.9730\n",
            "Epoch 26/100\n",
            "1000/1000 [==============================] - 0s 62us/step - loss: 0.1117 - accuracy: 0.9790\n",
            "Epoch 27/100\n",
            "1000/1000 [==============================] - 0s 55us/step - loss: 0.1101 - accuracy: 0.9750\n",
            "Epoch 28/100\n",
            "1000/1000 [==============================] - 0s 51us/step - loss: 0.1092 - accuracy: 0.9780\n",
            "Epoch 29/100\n",
            "1000/1000 [==============================] - 0s 42us/step - loss: 0.1077 - accuracy: 0.9750\n",
            "Epoch 30/100\n",
            "1000/1000 [==============================] - 0s 65us/step - loss: 0.1029 - accuracy: 0.9780\n",
            "Epoch 31/100\n",
            "1000/1000 [==============================] - 0s 50us/step - loss: 0.1019 - accuracy: 0.9770\n",
            "Epoch 32/100\n",
            "1000/1000 [==============================] - 0s 50us/step - loss: 0.1015 - accuracy: 0.9770\n",
            "Epoch 33/100\n",
            "1000/1000 [==============================] - 0s 48us/step - loss: 0.0998 - accuracy: 0.9750\n",
            "Epoch 34/100\n",
            "1000/1000 [==============================] - 0s 43us/step - loss: 0.0964 - accuracy: 0.9780\n",
            "Epoch 35/100\n",
            "1000/1000 [==============================] - 0s 60us/step - loss: 0.0944 - accuracy: 0.9770\n",
            "Epoch 36/100\n",
            "1000/1000 [==============================] - 0s 53us/step - loss: 0.0942 - accuracy: 0.9780\n",
            "Epoch 37/100\n",
            "1000/1000 [==============================] - 0s 54us/step - loss: 0.0928 - accuracy: 0.9770\n",
            "Epoch 38/100\n",
            "1000/1000 [==============================] - 0s 43us/step - loss: 0.0918 - accuracy: 0.9780\n",
            "Epoch 39/100\n",
            "1000/1000 [==============================] - 0s 45us/step - loss: 0.0942 - accuracy: 0.9760\n",
            "Epoch 40/100\n",
            "1000/1000 [==============================] - 0s 45us/step - loss: 0.0923 - accuracy: 0.9750\n",
            "Epoch 41/100\n",
            "1000/1000 [==============================] - 0s 53us/step - loss: 0.1021 - accuracy: 0.9670\n",
            "Epoch 42/100\n",
            "1000/1000 [==============================] - 0s 51us/step - loss: 0.0897 - accuracy: 0.9760\n",
            "Epoch 43/100\n",
            "1000/1000 [==============================] - 0s 55us/step - loss: 0.0869 - accuracy: 0.9770\n",
            "Epoch 44/100\n",
            "1000/1000 [==============================] - 0s 54us/step - loss: 0.0917 - accuracy: 0.9730\n",
            "Epoch 45/100\n",
            "1000/1000 [==============================] - 0s 52us/step - loss: 0.0936 - accuracy: 0.9690\n",
            "Epoch 46/100\n",
            "1000/1000 [==============================] - 0s 62us/step - loss: 0.0987 - accuracy: 0.9660\n",
            "Epoch 47/100\n",
            "1000/1000 [==============================] - 0s 50us/step - loss: 0.0846 - accuracy: 0.9740\n",
            "Epoch 48/100\n",
            "1000/1000 [==============================] - 0s 67us/step - loss: 0.0824 - accuracy: 0.9780\n",
            "Epoch 49/100\n",
            "1000/1000 [==============================] - 0s 50us/step - loss: 0.0813 - accuracy: 0.9750\n",
            "Epoch 50/100\n",
            "1000/1000 [==============================] - 0s 54us/step - loss: 0.0871 - accuracy: 0.9750\n",
            "Epoch 51/100\n",
            "1000/1000 [==============================] - 0s 45us/step - loss: 0.0848 - accuracy: 0.9760\n",
            "Epoch 52/100\n",
            "1000/1000 [==============================] - 0s 53us/step - loss: 0.0796 - accuracy: 0.9760\n",
            "Epoch 53/100\n",
            "1000/1000 [==============================] - 0s 64us/step - loss: 0.0783 - accuracy: 0.9770\n",
            "Epoch 54/100\n",
            "1000/1000 [==============================] - 0s 47us/step - loss: 0.0793 - accuracy: 0.9770\n",
            "Epoch 55/100\n",
            "1000/1000 [==============================] - 0s 49us/step - loss: 0.0822 - accuracy: 0.9760\n",
            "Epoch 56/100\n",
            "1000/1000 [==============================] - 0s 44us/step - loss: 0.0847 - accuracy: 0.9710\n",
            "Epoch 57/100\n",
            "1000/1000 [==============================] - 0s 47us/step - loss: 0.0774 - accuracy: 0.9750\n",
            "Epoch 58/100\n",
            "1000/1000 [==============================] - 0s 45us/step - loss: 0.0761 - accuracy: 0.9790\n",
            "Epoch 59/100\n",
            "1000/1000 [==============================] - 0s 47us/step - loss: 0.0763 - accuracy: 0.9740\n",
            "Epoch 60/100\n",
            "1000/1000 [==============================] - 0s 42us/step - loss: 0.0811 - accuracy: 0.9730\n",
            "Epoch 61/100\n",
            "1000/1000 [==============================] - 0s 47us/step - loss: 0.0745 - accuracy: 0.9770\n",
            "Epoch 62/100\n",
            "1000/1000 [==============================] - 0s 53us/step - loss: 0.0748 - accuracy: 0.9780\n",
            "Epoch 63/100\n",
            "1000/1000 [==============================] - 0s 47us/step - loss: 0.0714 - accuracy: 0.9780\n",
            "Epoch 64/100\n",
            "1000/1000 [==============================] - 0s 47us/step - loss: 0.0744 - accuracy: 0.9730\n",
            "Epoch 65/100\n",
            "1000/1000 [==============================] - 0s 51us/step - loss: 0.0773 - accuracy: 0.9770\n",
            "Epoch 66/100\n",
            "1000/1000 [==============================] - 0s 50us/step - loss: 0.0741 - accuracy: 0.9810\n",
            "Epoch 67/100\n",
            "1000/1000 [==============================] - 0s 53us/step - loss: 0.0733 - accuracy: 0.9760\n",
            "Epoch 68/100\n",
            "1000/1000 [==============================] - 0s 49us/step - loss: 0.0730 - accuracy: 0.9810\n",
            "Epoch 69/100\n",
            "1000/1000 [==============================] - 0s 41us/step - loss: 0.0767 - accuracy: 0.9760\n",
            "Epoch 70/100\n",
            "1000/1000 [==============================] - 0s 51us/step - loss: 0.0740 - accuracy: 0.9730\n",
            "Epoch 71/100\n",
            "1000/1000 [==============================] - 0s 58us/step - loss: 0.0762 - accuracy: 0.9720\n",
            "Epoch 72/100\n",
            "1000/1000 [==============================] - 0s 62us/step - loss: 0.0728 - accuracy: 0.9760\n",
            "Epoch 73/100\n",
            "1000/1000 [==============================] - 0s 52us/step - loss: 0.0708 - accuracy: 0.9780\n",
            "Epoch 74/100\n",
            "1000/1000 [==============================] - 0s 52us/step - loss: 0.0736 - accuracy: 0.9750\n",
            "Epoch 75/100\n",
            "1000/1000 [==============================] - 0s 53us/step - loss: 0.0743 - accuracy: 0.9730\n",
            "Epoch 76/100\n",
            "1000/1000 [==============================] - 0s 54us/step - loss: 0.0744 - accuracy: 0.9700\n",
            "Epoch 77/100\n",
            "1000/1000 [==============================] - 0s 49us/step - loss: 0.0706 - accuracy: 0.9740\n",
            "Epoch 78/100\n",
            "1000/1000 [==============================] - 0s 46us/step - loss: 0.0725 - accuracy: 0.9740\n",
            "Epoch 79/100\n"
          ],
          "name": "stdout"
        },
        {
          "output_type": "stream",
          "text": [
            "1000/1000 [==============================] - 0s 50us/step - loss: 0.0684 - accuracy: 0.9770\n",
            "Epoch 80/100\n",
            "1000/1000 [==============================] - 0s 46us/step - loss: 0.0707 - accuracy: 0.9750\n",
            "Epoch 81/100\n",
            "1000/1000 [==============================] - 0s 49us/step - loss: 0.0682 - accuracy: 0.9790\n",
            "Epoch 82/100\n",
            "1000/1000 [==============================] - 0s 54us/step - loss: 0.0691 - accuracy: 0.9760\n",
            "Epoch 83/100\n",
            "1000/1000 [==============================] - 0s 58us/step - loss: 0.0681 - accuracy: 0.9740\n",
            "Epoch 84/100\n",
            "1000/1000 [==============================] - 0s 56us/step - loss: 0.0707 - accuracy: 0.9740\n",
            "Epoch 85/100\n",
            "1000/1000 [==============================] - 0s 65us/step - loss: 0.0770 - accuracy: 0.9730\n",
            "Epoch 86/100\n",
            "1000/1000 [==============================] - 0s 61us/step - loss: 0.0755 - accuracy: 0.9740\n",
            "Epoch 87/100\n",
            "1000/1000 [==============================] - 0s 54us/step - loss: 0.0673 - accuracy: 0.9780\n",
            "Epoch 88/100\n",
            "1000/1000 [==============================] - 0s 44us/step - loss: 0.0699 - accuracy: 0.9740\n",
            "Epoch 89/100\n",
            "1000/1000 [==============================] - 0s 52us/step - loss: 0.0692 - accuracy: 0.9760\n",
            "Epoch 90/100\n",
            "1000/1000 [==============================] - 0s 52us/step - loss: 0.0712 - accuracy: 0.9780\n",
            "Epoch 91/100\n",
            "1000/1000 [==============================] - 0s 44us/step - loss: 0.0856 - accuracy: 0.9680\n",
            "Epoch 92/100\n",
            "1000/1000 [==============================] - 0s 45us/step - loss: 0.0738 - accuracy: 0.9720\n",
            "Epoch 93/100\n",
            "1000/1000 [==============================] - 0s 41us/step - loss: 0.0680 - accuracy: 0.9770\n",
            "Epoch 94/100\n",
            "1000/1000 [==============================] - 0s 45us/step - loss: 0.0678 - accuracy: 0.9760\n",
            "Epoch 95/100\n",
            "1000/1000 [==============================] - 0s 44us/step - loss: 0.0728 - accuracy: 0.9740\n",
            "Epoch 96/100\n",
            "1000/1000 [==============================] - 0s 46us/step - loss: 0.0790 - accuracy: 0.9700\n",
            "Epoch 97/100\n",
            "1000/1000 [==============================] - 0s 47us/step - loss: 0.0789 - accuracy: 0.9680\n",
            "Epoch 98/100\n",
            "1000/1000 [==============================] - 0s 61us/step - loss: 0.0662 - accuracy: 0.9760\n",
            "Epoch 99/100\n",
            "1000/1000 [==============================] - 0s 68us/step - loss: 0.0679 - accuracy: 0.9720\n",
            "Epoch 100/100\n",
            "1000/1000 [==============================] - 0s 55us/step - loss: 0.0708 - accuracy: 0.9740\n"
          ],
          "name": "stdout"
        }
      ]
    },
    {
      "cell_type": "code",
      "metadata": {
        "id": "zHLQmjgqmuEx",
        "colab_type": "code",
        "colab": {},
        "outputId": "9aed9f8f-579b-4a9d-bebb-b591a7ff999e"
      },
      "source": [
        "plt.plot(h.history['accuracy'])\n",
        "plt.title('accuracy')\n",
        "plt.xlabel('epoch')\n",
        "plt.legend(['accuracy'])"
      ],
      "execution_count": 0,
      "outputs": [
        {
          "output_type": "execute_result",
          "data": {
            "text/plain": [
              "<matplotlib.legend.Legend at 0x7f112fe43da0>"
            ]
          },
          "metadata": {
            "tags": []
          },
          "execution_count": 9
        },
        {
          "output_type": "display_data",
          "data": {
            "image/png": "[encoded data removed]",
            "text/plain": [
              "<Figure size 432x288 with 1 Axes>"
            ]
          },
          "metadata": {
            "tags": [],
            "needs_background": "light"
          }
        }
      ]
    },
    {
      "cell_type": "code",
      "metadata": {
        "id": "04oAPgvWmuFC",
        "colab_type": "code",
        "colab": {},
        "outputId": "6c263393-6cc6-4859-808d-d6d372934569"
      },
      "source": [
        "plt.plot(h.history['loss'])\n",
        "plt.title('loss')\n",
        "plt.xlabel('epoch')\n",
        "plt.legend(['loss'])"
      ],
      "execution_count": 0,
      "outputs": [
        {
          "output_type": "execute_result",
          "data": {
            "text/plain": [
              "<matplotlib.legend.Legend at 0x7f112fb9e8d0>"
            ]
          },
          "metadata": {
            "tags": []
          },
          "execution_count": 10
        },
        {
          "output_type": "display_data",
          "data": {
            "image/png": "[encoded data removed]",
            "text/plain": [
              "<Figure size 432x288 with 1 Axes>"
            ]
          },
          "metadata": {
            "tags": [],
            "needs_background": "light"
          }
        }
      ]
    },
    {
      "cell_type": "code",
      "metadata": {
        "id": "vY21r-7lmuFR",
        "colab_type": "code",
        "colab": {}
      },
      "source": [
        "def plt_decision_boundry(X,y,model):\n",
        "    x_span = np.linspace(min(X[:,0]),max([]))\n",
        "    return null"
      ],
      "execution_count": 0,
      "outputs": []
    },
    {
      "cell_type": "code",
      "metadata": {
        "id": "CBeJlB5NmuFf",
        "colab_type": "code",
        "colab": {}
      },
      "source": [
        "plt_decision_boundry(X,y,model)"
      ],
      "execution_count": 0,
      "outputs": []
    }
  ]
}