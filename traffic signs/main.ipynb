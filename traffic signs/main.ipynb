{
  "nbformat": 4,
  "nbformat_minor": 0,
  "metadata": {
    "kernelspec": {
      "language": "python",
      "display_name": "Python 3",
      "name": "python3"
    },
    "language_info": {
      "pygments_lexer": "ipython3",
      "nbconvert_exporter": "python",
      "version": "3.6.4",
      "file_extension": ".py",
      "codemirror_mode": {
        "name": "ipython",
        "version": 3
      },
      "name": "python",
      "mimetype": "text/x-python"
    },
    "colab": {
      "name": "kernel228c906e6c.ipynb",
      "provenance": []
    }
  },
  "cells": [
    {
      "cell_type": "code",
      "metadata": {
        "_uuid": "8f2839f25d086af736a60e9eeb907d3b93b6e0e5",
        "_cell_guid": "b1076dfc-b9ad-4769-8c92-a6c4dae69d19",
        "trusted": true,
        "id": "JuOkqpdjOaBQ",
        "colab_type": "code",
        "colab": {}
      },
      "source": [
        "# This Python 3 environment comes with many helpful analytics libraries installed\n",
        "# It is defined by the kaggle/python docker image: https://github.com/kaggle/docker-python\n",
        "# For example, here's several helpful packages to load in \n",
        "\n",
        "import numpy as np # linear algebra\n",
        "import pandas as pd # data processing, CSV file I/O (e.g. pd.read_csv)\n",
        "\n",
        "# Input data files are available in the \"../input/\" directory.\n",
        "# For example, running this (by clicking run or pressing Shift+Enter) will list all files under the input directory\n",
        "\n",
        "import os\n",
        "for dirname, _, filenames in os.walk('/kaggle/input'):\n",
        "    for filename in filenames:\n",
        "        print(os.path.join(dirname, filename))\n",
        "\n",
        "# Any results you write to the current directory are saved as output."
      ],
      "execution_count": 0,
      "outputs": []
    },
    {
      "cell_type": "code",
      "metadata": {
        "_uuid": "d629ff2d2480ee46fbb7e2d37f6b5fab8052498a",
        "_cell_guid": "79c7e3d0-c299-4dcb-8224-4455121ee9b0",
        "trusted": true,
        "id": "I3n6jyipOaBr",
        "colab_type": "code",
        "colab": {}
      },
      "source": [
        "import matplotlib.pyplot as plt\n",
        "import keras\n",
        "from keras.models import Sequential\n",
        "from keras.layers import Dense\n",
        "from keras.optimizers import Adam\n",
        "from keras.utils.np_utils import to_categorical\n",
        "from keras.layers import Dropout, Flatten\n",
        "from keras.layers.convolutional import Conv2D, MaxPooling2D    \n",
        "import random\n",
        "import pickle\n",
        "import cv2"
      ],
      "execution_count": 0,
      "outputs": []
    },
    {
      "cell_type": "code",
      "metadata": {
        "trusted": true,
        "id": "tcg2HEg2OaB9",
        "colab_type": "code",
        "colab": {}
      },
      "source": [
        "random.seed(0)"
      ],
      "execution_count": 0,
      "outputs": []
    },
    {
      "cell_type": "markdown",
      "metadata": {
        "id": "CM3LtHTiOaCM",
        "colab_type": "text"
      },
      "source": [
        "our data in /kaggle/input are pickle files, so we should unpickle them"
      ]
    },
    {
      "cell_type": "code",
      "metadata": {
        "trusted": true,
        "id": "XQduWY29OaCQ",
        "colab_type": "code",
        "colab": {}
      },
      "source": [
        "!ls /kaggle/input/traffic-signs-preprocessed"
      ],
      "execution_count": 0,
      "outputs": []
    },
    {
      "cell_type": "code",
      "metadata": {
        "trusted": true,
        "id": "UTJwXNa8OaCg",
        "colab_type": "code",
        "colab": {}
      },
      "source": [
        "with open('/kaggle/input/traffic-signs-preprocessed/train.pickle','rb') as f:\n",
        "    train_data = pickle.load(f)\n",
        "\n",
        "with open('/kaggle/input/traffic-signs-preprocessed/valid.pickle','rb') as f:\n",
        "    valid_data = pickle.load(f)\n",
        "\n",
        "with open('/kaggle/input/traffic-signs-preprocessed/test.pickle','rb') as f:\n",
        "    test_data = pickle.load(f)\n",
        "\n",
        "type(train_data)"
      ],
      "execution_count": 0,
      "outputs": []
    },
    {
      "cell_type": "code",
      "metadata": {
        "trusted": true,
        "id": "sriCYY0WOaCx",
        "colab_type": "code",
        "colab": {}
      },
      "source": [
        "X_train, y_train = train_data['features'], train_data['labels']\n",
        "X_valid, y_valid = valid_data['features'], valid_data['labels']\n",
        "X_test, y_test = test_data['features'], test_data['labels']\n",
        "print(\"X train shape:\",X_train.shape)\n",
        "print(\"X train shape:\",X_valid.shape)\n",
        "print(\"X train shape:\",X_test.shape)"
      ],
      "execution_count": 0,
      "outputs": []
    },
    {
      "cell_type": "code",
      "metadata": {
        "trusted": true,
        "id": "OW9jMrReOaDD",
        "colab_type": "code",
        "colab": {}
      },
      "source": [
        "print(X_train[0].shape == X_train[0].shape)\n",
        "print(X_valid[0].shape == X_valid[0].shape)\n",
        "print(y_test[0].shape == y_test[0].shape)\n"
      ],
      "execution_count": 0,
      "outputs": []
    },
    {
      "cell_type": "code",
      "metadata": {
        "trusted": true,
        "id": "ocsPm1ULOaDb",
        "colab_type": "code",
        "colab": {}
      },
      "source": [
        "data = pd.read_csv(\"/kaggle/input/traffic-signs-preprocessed/label_names.csv\")\n",
        "\n"
      ],
      "execution_count": 0,
      "outputs": []
    },
    {
      "cell_type": "code",
      "metadata": {
        "trusted": true,
        "id": "pxA0mt97OaD8",
        "colab_type": "code",
        "colab": {}
      },
      "source": [
        "num_of_samples = []\n",
        "cols = 5\n",
        "num_classes = 43\n",
        "fig, axs = plt.subplots(nrows=num_classes,ncols=cols,figsize=(5,50))\n",
        "fig.tight_layout()\n",
        "\n",
        "for i in range(cols):\n",
        "    for j,row in data.iterrows():\n",
        "        x_selected = X_train[y_train == j]\n",
        "        axs[j][i].imshow(x_selected[random.randint(0,(len(x_selected)-1)),: ,:],cmap=plt.get_cmap('gray'))\n",
        "        axs[j][i].axis(\"off\")\n",
        "        if i ==2:\n",
        "            axs[j][i].set_title(str(j)+'-'+ row[\"SignName\"])\n",
        "            num_of_samples.append(len(x_selected))"
      ],
      "execution_count": 0,
      "outputs": []
    },
    {
      "cell_type": "code",
      "metadata": {
        "trusted": true,
        "id": "RyIV7GcdOaEM",
        "colab_type": "code",
        "colab": {}
      },
      "source": [
        "print(num_of_samples)\n",
        "plt.figure(figsize=(12,4))\n",
        "plt.bar(range(0,num_classes),num_of_samples)\n",
        "plt.title(\"Distribution of the train dataset\")\n",
        "plt.xlabel(\"Class of number\")\n",
        "plt.ylabel(\"Number of images\")"
      ],
      "execution_count": 0,
      "outputs": []
    },
    {
      "cell_type": "code",
      "metadata": {
        "trusted": true,
        "id": "gHunK-ZvOaEZ",
        "colab_type": "code",
        "colab": {}
      },
      "source": [
        "plt.imshow(X_train[123])\n",
        "plt.axis(\"off\")\n",
        "print(X_train[123].shape)"
      ],
      "execution_count": 0,
      "outputs": []
    },
    {
      "cell_type": "code",
      "metadata": {
        "trusted": true,
        "id": "O01tii-UOaEm",
        "colab_type": "code",
        "colab": {}
      },
      "source": [
        "def grayscale(img):\n",
        "    img = cv2.cvtColor(img,cv2.COLOR_BGR2GRAY)\n",
        "    return img\n",
        "def equalize(img):\n",
        "    img = cv2.equalizeHist(img)\n",
        "    return img\n",
        "def preprocessing(img):\n",
        "    img = grayscale(img)\n",
        "    img = equalize(img)\n",
        "    img = img\n",
        "    return img\n",
        "\n",
        "#list(map(preprocessing,X_train))"
      ],
      "execution_count": 0,
      "outputs": []
    },
    {
      "cell_type": "code",
      "metadata": {
        "trusted": true,
        "id": "DtBE7Js2OaEw",
        "colab_type": "code",
        "colab": {}
      },
      "source": [
        "X_train = np.array(list(map(preprocessing,X_train)),dtype=np.uint8)\n",
        "X_valid = np.array(list(map(preprocessing,X_valid)),dtype=np.uint8)\n",
        "X_test = np.array(list(map(preprocessing,X_test)),dtype=np.uint8)"
      ],
      "execution_count": 0,
      "outputs": []
    },
    {
      "cell_type": "code",
      "metadata": {
        "trusted": true,
        "id": "dPS1-XrMOaE4",
        "colab_type": "code",
        "colab": {}
      },
      "source": [
        "plt.imshow(X_train[random.randint(0,len(X_train)-1)], cmap=plt.get_cmap('gray'))\n",
        "plt.axis(\"off\")\n"
      ],
      "execution_count": 0,
      "outputs": []
    },
    {
      "cell_type": "code",
      "metadata": {
        "trusted": true,
        "id": "XPA6o4pkOaFE",
        "colab_type": "code",
        "colab": {}
      },
      "source": [
        "print(X_train.shape)\n",
        "print(X_valid.shape)\n",
        "print(X_test.shape)\n"
      ],
      "execution_count": 0,
      "outputs": []
    },
    {
      "cell_type": "code",
      "metadata": {
        "trusted": true,
        "id": "9kEg2G3bOaFN",
        "colab_type": "code",
        "colab": {}
      },
      "source": [
        "\n",
        "X_train = X_train.reshape(34799, 32, 32,1)\n",
        "X_valid = X_valid.reshape(4410, 32, 32, 1)\n",
        "X_test = X_test.reshape(12630, 32, 32, 1)\n",
        "\n",
        "print(X_train.shape)\n",
        "print(X_valid.shape)\n",
        "print(X_test.shape)"
      ],
      "execution_count": 0,
      "outputs": []
    },
    {
      "cell_type": "code",
      "metadata": {
        "trusted": true,
        "id": "wyq_PVcJOaFV",
        "colab_type": "code",
        "colab": {}
      },
      "source": [
        "def model():\n",
        "    model = Sequential()\n",
        "    model.add(Conv2D(26,(5,5),input_shape=(32,32,1),activation='relu'))\n",
        "    model.add(MaxPooling2D(pool_size=(2,2)))\n",
        "    model.add(Conv2D(15,(3,3),activation='relu'))\n",
        "    model.add(MaxPooling2D(pool_size=(2,2)))\n",
        "    model.add(Flatten())\n",
        "    model.add(Dense(600,activation='relu'))\n",
        "    model.add(Dropout(0.5))\n",
        "    model.add(Dense(num_classes, activation='softmax'))\n",
        "    model.compile(Adam(lr=0.01),loss='categorical_crossentropy',metrics=[])\n",
        "    return model"
      ],
      "execution_count": 0,
      "outputs": []
    },
    {
      "cell_type": "code",
      "metadata": {
        "trusted": true,
        "id": "Td7BmBSdOaFk",
        "colab_type": "code",
        "colab": {}
      },
      "source": [
        "model = model()\n",
        "model.summary()"
      ],
      "execution_count": 0,
      "outputs": []
    },
    {
      "cell_type": "code",
      "metadata": {
        "trusted": true,
        "id": "Gna3dJhXOaFr",
        "colab_type": "code",
        "colab": {}
      },
      "source": [
        "model.fit(X_train,y_train,batch_size=400, epochs=10, validation_data=(X_valid,y_valid),verbose=1,shuffle=1)"
      ],
      "execution_count": 0,
      "outputs": []
    },
    {
      "cell_type": "code",
      "metadata": {
        "trusted": true,
        "id": "33_tXuHPOaF1",
        "colab_type": "code",
        "colab": {}
      },
      "source": [
        ""
      ],
      "execution_count": 0,
      "outputs": []
    }
  ]
}
